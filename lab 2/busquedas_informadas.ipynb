{
 "cells": [
  {
   "cell_type": "markdown",
   "id": "e50f5e00",
   "metadata": {},
   "source": []
  },
  {
   "cell_type": "markdown",
   "id": "0eec0263",
   "metadata": {},
   "source": [
    "<h2> GRAFO </h2>\n"
   ]
  },
  {
   "cell_type": "code",
   "execution_count": 9,
   "id": "bc5d8d1d",
   "metadata": {},
   "outputs": [],
   "source": [
    "grafo = {\n",
    "    'A': [('B', 1), ('C', 4)],\n",
    "    'B': [('D', 2), ('E', 5)],\n",
    "    'C': [('F', 3)],\n",
    "    'D': [],\n",
    "    'E': [('F', 1)],\n",
    "    'F': []\n",
    "}\n"
   ]
  },
  {
   "cell_type": "markdown",
   "id": "77b9ba14",
   "metadata": {},
   "source": [
    "<h2> HEURISTICA</h2>\n"
   ]
  },
  {
   "cell_type": "code",
   "execution_count": 10,
   "id": "758b3978",
   "metadata": {},
   "outputs": [],
   "source": [
    "heuristica = {\n",
    "    'A': 5,\n",
    "    'B': 3,\n",
    "    'C': 2,\n",
    "    'D': 6,\n",
    "    'E': 1,\n",
    "    'F': 0\n",
    "}\n"
   ]
  },
  {
   "cell_type": "markdown",
   "id": "3c548898",
   "metadata": {},
   "source": [
    "<h2>  Búsqueda Voraz Primero el Mejor</h2>"
   ]
  },
  {
   "cell_type": "code",
   "execution_count": 12,
   "id": "09327956",
   "metadata": {},
   "outputs": [],
   "source": [
    "import heapq\n",
    "def voraz_primero_mejor(grafo, inicio, objetivo, h):\n",
    "    visitados = set()\n",
    "    cola = [(h[inicio], inicio)]\n",
    "    camino = {inicio: None}\n",
    "\n",
    "    while cola:\n",
    "        _, nodo = heapq.heappop(cola)\n",
    "        if nodo == objetivo:\n",
    "            ruta = []\n",
    "            while nodo:\n",
    "                ruta.append(nodo)\n",
    "                nodo = camino[nodo]\n",
    "            return list(reversed(ruta))\n",
    "        if nodo in visitados:\n",
    "            continue\n",
    "        visitados.add(nodo)\n",
    "        for vecino, _ in grafo.get(nodo, []):\n",
    "            if vecino not in visitados:\n",
    "                heapq.heappush(cola, (h[vecino], vecino))\n",
    "                camino[vecino] = nodo\n",
    "    return None\n"
   ]
  },
  {
   "cell_type": "code",
   "execution_count": 13,
   "id": "a9cf7024",
   "metadata": {},
   "outputs": [
    {
     "data": {
      "text/plain": [
       "['A', 'C', 'F']"
      ]
     },
     "execution_count": 13,
     "metadata": {},
     "output_type": "execute_result"
    }
   ],
   "source": [
    "voraz_primero_mejor(grafo, 'A', 'F', heuristica)"
   ]
  },
  {
   "cell_type": "markdown",
   "id": "c074f713",
   "metadata": {},
   "source": [
    "<h2> Búsqueda A*</h2>"
   ]
  },
  {
   "cell_type": "code",
   "execution_count": 16,
   "id": "2054da27",
   "metadata": {},
   "outputs": [],
   "source": [
    "def busqueda_a_estrella(grafo, inicio, objetivo, h):\n",
    "    visitados = set()\n",
    "    cola = [(h[inicio], 0, inicio)]  # (f, g, nodo)\n",
    "    camino = {inicio: None}\n",
    "\n",
    "    while cola:\n",
    "        f, g, nodo = heapq.heappop(cola)\n",
    "        if nodo == objetivo:\n",
    "            ruta = []\n",
    "            while nodo:\n",
    "                ruta.append(nodo)\n",
    "                nodo = camino[nodo]\n",
    "            return list(reversed(ruta)), g\n",
    "        if nodo in visitados:\n",
    "            continue\n",
    "        visitados.add(nodo)\n",
    "        for vecino, costo in grafo.get(nodo, []):\n",
    "            if vecino not in visitados:\n",
    "                g_nuevo = g + costo\n",
    "                f_nuevo = g_nuevo + h[vecino]\n",
    "                heapq.heappush(cola, (f_nuevo, g_nuevo, vecino))\n",
    "                camino[vecino] = nodo\n",
    "    return None, float('inf')\n"
   ]
  },
  {
   "cell_type": "code",
   "execution_count": 17,
   "id": "c961e7a6",
   "metadata": {},
   "outputs": [
    {
     "data": {
      "text/plain": [
       "(['A', 'B', 'E', 'F'], 7)"
      ]
     },
     "execution_count": 17,
     "metadata": {},
     "output_type": "execute_result"
    }
   ],
   "source": [
    "busqueda_a_estrella(grafo, 'A', 'F', heuristica)"
   ]
  },
  {
   "cell_type": "markdown",
   "id": "5b32e0b1",
   "metadata": {},
   "source": [
    "<h2>Búsqueda memoria acotada</h2>"
   ]
  },
  {
   "cell_type": "code",
   "execution_count": 19,
   "id": "dcd25089",
   "metadata": {},
   "outputs": [],
   "source": [
    "def sma_estrella(grafo, inicio, objetivo, h, memoria_max=3):\n",
    "    visitados = set()\n",
    "    cola = [(h[inicio], 0, inicio)]\n",
    "    camino = {inicio: None}\n",
    "\n",
    "    while cola:\n",
    "        f, g, nodo = heapq.heappop(cola)\n",
    "        if nodo == objetivo:\n",
    "            ruta = []\n",
    "            while nodo:\n",
    "                ruta.append(nodo)\n",
    "                nodo = camino[nodo]\n",
    "            return list(reversed(ruta)), g\n",
    "        if nodo in visitados:\n",
    "            continue\n",
    "        visitados.add(nodo)\n",
    "        hijos = []\n",
    "        for vecino, costo in grafo.get(nodo, []):\n",
    "            g_nuevo = g + costo\n",
    "            f_nuevo = g_nuevo + h[vecino]\n",
    "            hijos.append((f_nuevo, g_nuevo, vecino))\n",
    "            camino[vecino] = nodo\n",
    "        # Mantener solo los mejores N nodos según memoria_max\n",
    "        for hijo in sorted(hijos)[:memoria_max]:\n",
    "            heapq.heappush(cola, hijo)\n",
    "    return None, float('inf')\n"
   ]
  },
  {
   "cell_type": "code",
   "execution_count": 20,
   "id": "e5002729",
   "metadata": {},
   "outputs": [
    {
     "data": {
      "text/plain": [
       "(['A', 'B', 'E', 'F'], 7)"
      ]
     },
     "execution_count": 20,
     "metadata": {},
     "output_type": "execute_result"
    }
   ],
   "source": [
    "sma_estrella(grafo, 'A', 'F', heuristica, memoria_max=3)"
   ]
  }
 ],
 "metadata": {
  "kernelspec": {
   "display_name": "Python 3",
   "language": "python",
   "name": "python3"
  },
  "language_info": {
   "codemirror_mode": {
    "name": "ipython",
    "version": 3
   },
   "file_extension": ".py",
   "mimetype": "text/x-python",
   "name": "python",
   "nbconvert_exporter": "python",
   "pygments_lexer": "ipython3",
   "version": "3.10.11"
  }
 },
 "nbformat": 4,
 "nbformat_minor": 5
}
