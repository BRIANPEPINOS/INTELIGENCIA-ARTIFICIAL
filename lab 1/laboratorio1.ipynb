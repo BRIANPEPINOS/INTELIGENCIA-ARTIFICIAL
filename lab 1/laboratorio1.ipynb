{
 "cells": [
  {
   "cell_type": "markdown",
   "id": "ebd68acd",
   "metadata": {},
   "source": [
    "<h2> BUSQUEDA POR ANCHURA </h2>"
   ]
  },
  {
   "cell_type": "markdown",
   "id": "390e5896",
   "metadata": {},
   "source": [
    "<h4>Definición de árbol</h4>"
   ]
  },
  {
   "cell_type": "code",
   "execution_count": 11,
   "id": "35d83693",
   "metadata": {},
   "outputs": [],
   "source": [
    "\n",
    "arbol= {\n",
    "    'A': ['B','C'],\n",
    "    'B' : ['D' , 'E'],\n",
    "    'C' : ['F' , 'G'],\n",
    "    'D' : ['H' , 'I']\n",
    "}\n"
   ]
  },
  {
   "cell_type": "code",
   "execution_count": null,
   "id": "1aec4063",
   "metadata": {},
   "outputs": [],
   "source": [
    "from collections import deque\n",
    "def busqueda_anchura(arbol,inicio, fin):\n",
    "    visitados = set()\n",
    "    cola = deque ([inicio])\n",
    "    recorrido = []\n",
    "    while cola:\n",
    "        nodo = cola.popleft()\n",
    "        if nodo not in visitados:\n",
    "            visitados.add(nodo)\n",
    "            recorrido.append(nodo)\n",
    "            if nodo == fin:\n",
    "                break\n",
    "            cola.extend(arbol.get(nodo,[])) #obtiene las ramas de mi nodo actual\n",
    "    \n",
    "    return recorrido\n"
   ]
  },
  {
   "cell_type": "markdown",
   "id": "0a30e00f",
   "metadata": {},
   "source": [
    "<h2>PASO A PASO BUSQUEDA EN ANCHURA </h2>"
   ]
  },
  {
   "cell_type": "code",
   "execution_count": 1,
   "id": "10ac4d36",
   "metadata": {},
   "outputs": [],
   "source": [
    "arbol = {\n",
    "    'A': ['B', 'C'],\n",
    "    'B': ['D', 'E'],\n",
    "    'C': ['F', 'G'],\n",
    "    'D': ['H', 'I']\n",
    "}"
   ]
  },
  {
   "cell_type": "code",
   "execution_count": null,
   "id": "69ef8418",
   "metadata": {},
   "outputs": [
    {
     "name": "stdout",
     "output_type": "stream",
     "text": [
      "=== INICIO DE LA BÚSQUEDA EN ANCHURA ===\n",
      "Nodo inicial: A, Nodo objetivo: I\n",
      "\n",
      "Cola actual: ['A']\n",
      "-> Sacando nodo: A\n",
      "   Visitando: A\n",
      "   Hijos de A: ['B', 'C']\n",
      "   Cola después de agregar hijos: ['B', 'C']\n",
      "\n",
      "Cola actual: ['B', 'C']\n",
      "-> Sacando nodo: B\n",
      "   Visitando: B\n",
      "   Hijos de B: ['D', 'E']\n",
      "   Cola después de agregar hijos: ['C', 'D', 'E']\n",
      "\n",
      "Cola actual: ['C', 'D', 'E']\n",
      "-> Sacando nodo: C\n",
      "   Visitando: C\n",
      "   Hijos de C: ['F', 'G']\n",
      "   Cola después de agregar hijos: ['D', 'E', 'F', 'G']\n",
      "\n",
      "Cola actual: ['D', 'E', 'F', 'G']\n",
      "-> Sacando nodo: D\n",
      "   Visitando: D\n",
      "   Hijos de D: ['H', 'I']\n",
      "   Cola después de agregar hijos: ['E', 'F', 'G', 'H', 'I']\n",
      "\n",
      "Cola actual: ['E', 'F', 'G', 'H', 'I']\n",
      "-> Sacando nodo: E\n",
      "   Visitando: E\n",
      "   Hijos de E: []\n",
      "   Cola después de agregar hijos: ['F', 'G', 'H', 'I']\n",
      "\n",
      "Cola actual: ['F', 'G', 'H', 'I']\n",
      "-> Sacando nodo: F\n",
      "   Visitando: F\n",
      "   Hijos de F: []\n",
      "   Cola después de agregar hijos: ['G', 'H', 'I']\n",
      "\n",
      "Cola actual: ['G', 'H', 'I']\n",
      "-> Sacando nodo: G\n",
      "   Visitando: G\n",
      "   Hijos de G: []\n",
      "   Cola después de agregar hijos: ['H', 'I']\n",
      "\n",
      "Cola actual: ['H', 'I']\n",
      "-> Sacando nodo: H\n",
      "   Visitando: H\n",
      "   Hijos de H: []\n",
      "   Cola después de agregar hijos: ['I']\n",
      "\n",
      "Cola actual: ['I']\n",
      "-> Sacando nodo: I\n",
      "   Visitando: I\n",
      "\n",
      "✅ Nodo objetivo 'I' encontrado. Deteniendo búsqueda.\n",
      "\n",
      "=== BÚSQUEDA FINALIZADA ===\n",
      "Recorrido completo: ['A', 'B', 'C', 'D', 'E', 'F', 'G', 'H', 'I']\n",
      "\n",
      "Resultado final del recorrido: ['A', 'B', 'C', 'D', 'E', 'F', 'G', 'H', 'I']\n"
     ]
    }
   ],
   "source": [
    "from collections import deque\n",
    "# Árbol de ejemplo\n",
    "arbol = {\n",
    "    'A': ['B', 'C'],\n",
    "    'B': ['D', 'E'],\n",
    "    'C': ['F', 'G'],\n",
    "    'D': ['H', 'I']\n",
    "}\n",
    "\n",
    "def busqueda_anchura(arbol, inicio, fin):\n",
    "    visitados = set()          # conjunto para evitar repetir nodos\n",
    "    cola = deque([inicio])     # cola con el nodo inicial\n",
    "    recorrido = []             # lista para guardar el orden de visita\n",
    "    print(f\"Nodo inicial: {inicio}, Nodo objetivo: {fin}\\n\")\n",
    "\n",
    "    while cola:\n",
    "        print(f\"Cola actual: {list(cola)}\")  # muestra el estado de la cola\n",
    "        nodo = cola.popleft()                # saca el primer nodo (FIFO)\n",
    "        print(f\"-> Sacando nodo: {nodo}\")\n",
    "\n",
    "        if nodo not in visitados:\n",
    "            print(f\"   Visitando: {nodo}\")\n",
    "            visitados.add(nodo)\n",
    "            recorrido.append(nodo)\n",
    "\n",
    "            if nodo == fin:\n",
    "                print(f\"\\n Nodo objetivo '{fin}' encontrado. Deteniendo búsqueda.\\n\")\n",
    "                break\n",
    "\n",
    "            hijos = arbol.get(nodo, [])\n",
    "            print(f\"   Hijos de {nodo}: {hijos}\")\n",
    "\n",
    "            # Añadir los hijos a la cola (al final)\n",
    "            cola.extend(hijos)\n",
    "            print(f\"   Cola después de agregar hijos: {list(cola)}\\n\")\n",
    "        else:\n",
    "            print(f\"   {nodo} ya fue visitado, se omite.\\n\")\n",
    "\n",
    "    print(\"=== BÚSQUEDA FINALIZADA ===\")\n",
    "    print(f\"Recorrido completo: {recorrido}\\n\")\n",
    "\n",
    "    return recorrido\n",
    "\n",
    "# Ejemplo de ejecución\n",
    "resultado = busqueda_anchura(arbol, 'A', 'I')\n",
    "print(\"Resultado final del recorrido:\", resultado)"
   ]
  },
  {
   "cell_type": "code",
   "execution_count": null,
   "id": "f47f556c",
   "metadata": {},
   "outputs": [
    {
     "data": {
      "text/plain": [
       "['A', 'B', 'C', 'D', 'E']"
      ]
     },
     "execution_count": 8,
     "metadata": {},
     "output_type": "execute_result"
    }
   ],
   "source": [
    "\n",
    "busqueda_anchura(arbol,'A','E')"
   ]
  },
  {
   "cell_type": "code",
   "execution_count": 16,
   "id": "26b89a18",
   "metadata": {},
   "outputs": [
    {
     "data": {
      "text/plain": [
       "['A', 'B', 'C', 'G', 'F', 'D']"
      ]
     },
     "execution_count": 16,
     "metadata": {},
     "output_type": "execute_result"
    }
   ],
   "source": [
    "busqueda_anchura(arbol,'A','E')"
   ]
  },
  {
   "cell_type": "markdown",
   "id": "1d20a6d1",
   "metadata": {},
   "source": [
    "<h2>Busqueda en profundidad </h2>"
   ]
  },
  {
   "cell_type": "code",
   "execution_count": null,
   "id": "845aecc5",
   "metadata": {},
   "outputs": [],
   "source": [
    "def busqueda_profundidad(arbol,inicio, fin):\n",
    "    visitados = set()\n",
    "    pila = [inicio]\n",
    "    recorrido = []\n",
    "    while pila:\n",
    "        nodo = pila.pop()\n",
    "        if nodo not in visitados:\n",
    "            visitados.add(nodo)\n",
    "            recorrido.append(nodo)\n",
    "            if nodo == fin:\n",
    "                break\n",
    "            pila.extend(reversed(arbol.get(nodo,[]))) \n",
    "\n",
    "    return recorrido"
   ]
  },
  {
   "cell_type": "code",
   "execution_count": null,
   "id": "005afa17",
   "metadata": {},
   "outputs": [
    {
     "data": {
      "text/plain": [
       "['A', 'B', 'D', 'H', 'I', 'E', 'C', 'F']"
      ]
     },
     "execution_count": 26,
     "metadata": {},
     "output_type": "execute_result"
    }
   ],
   "source": [
    "busqueda_profundidad(arbol,'A', 'F')"
   ]
  },
  {
   "cell_type": "markdown",
   "id": "0ab0cefa",
   "metadata": {},
   "source": [
    "<h2>PASO A PASO BUSQUEDA EN PROFUNDIDAD </h2>"
   ]
  },
  {
   "cell_type": "code",
   "execution_count": null,
   "id": "a70f1e5a",
   "metadata": {},
   "outputs": [
    {
     "name": "stdout",
     "output_type": "stream",
     "text": [
      "=== INICIO DE LA BÚSQUEDA EN PROFUNDIDAD ===\n",
      "Nodo inicial: A, Nodo objetivo: I\n",
      "\n",
      "Pila actual: ['A']\n",
      "-> Sacando nodo: A\n",
      "   Visitando: A\n",
      "   Hijos de A: ['B', 'C']\n",
      "   Pila después de agregar hijos: ['C', 'B']\n",
      "\n",
      "Pila actual: ['C', 'B']\n",
      "-> Sacando nodo: B\n",
      "   Visitando: B\n",
      "   Hijos de B: ['D', 'E']\n",
      "   Pila después de agregar hijos: ['C', 'E', 'D']\n",
      "\n",
      "Pila actual: ['C', 'E', 'D']\n",
      "-> Sacando nodo: D\n",
      "   Visitando: D\n",
      "   Hijos de D: ['H', 'I']\n",
      "   Pila después de agregar hijos: ['C', 'E', 'I', 'H']\n",
      "\n",
      "Pila actual: ['C', 'E', 'I', 'H']\n",
      "-> Sacando nodo: H\n",
      "   Visitando: H\n",
      "   Hijos de H: []\n",
      "   Pila después de agregar hijos: ['C', 'E', 'I']\n",
      "\n",
      "Pila actual: ['C', 'E', 'I']\n",
      "-> Sacando nodo: I\n",
      "   Visitando: I\n",
      "\n",
      "✅ Nodo objetivo 'I' encontrado. Deteniendo búsqueda.\n",
      "\n",
      "=== BÚSQUEDA FINALIZADA ===\n",
      "Recorrido completo: ['A', 'B', 'D', 'H', 'I']\n",
      "\n",
      "Resultado final del recorrido: ['A', 'B', 'D', 'H', 'I']\n"
     ]
    }
   ],
   "source": [
    "from collections import deque  # (no es necesario en DFS, pero lo dejamos si también usas BFS)\n",
    "\n",
    "\n",
    "def busqueda_profundidad(arbol, inicio, fin):\n",
    "    visitados = set()      # conjunto para evitar repetir nodos\n",
    "    pila = [inicio]        # la pila empieza con el nodo inicial\n",
    "    recorrido = []         # lista para registrar el orden de visita\n",
    "\n",
    "    print(\"=== INICIO DE LA BÚSQUEDA EN PROFUNDIDAD ===\")\n",
    "    print(f\"Nodo inicial: {inicio}, Nodo objetivo: {fin}\\n\")\n",
    "\n",
    "    while pila:\n",
    "        print(f\"Pila actual: {list(pila)}\")  # muestra el estado de la pila\n",
    "        nodo = pila.pop()                    # saca el último elemento (LIFO)\n",
    "        print(f\"-> Sacando nodo: {nodo}\")\n",
    "\n",
    "        if nodo not in visitados:\n",
    "            print(f\"   Visitando: {nodo}\")\n",
    "            visitados.add(nodo)\n",
    "            recorrido.append(nodo)\n",
    "\n",
    "            if nodo == fin:\n",
    "                print(f\"\\n Nodo objetivo '{fin}' encontrado. Deteniendo búsqueda.\\n\")\n",
    "                break\n",
    "\n",
    "            hijos = arbol.get(nodo, [])\n",
    "            print(f\"   Hijos de {nodo}: {hijos}\")\n",
    "\n",
    "            # IMPORTANTE: se invierte la lista para mantener orden \"izquierda a derecha\"\n",
    "            pila.extend(reversed(hijos))\n",
    "            print(f\"   Pila después de agregar hijos: {list(pila)}\\n\")\n",
    "        else:\n",
    "            print(f\"   {nodo} ya fue visitado, se omite.\\n\")\n",
    "\n",
    "    print(\"=== BÚSQUEDA FINALIZADA ===\")\n",
    "    print(f\"Recorrido completo: {recorrido}\\n\")\n",
    "\n",
    "    return recorrido\n",
    "\n",
    "# Ejemplo de ejecución\n",
    "resultado = busqueda_profundidad(arbol, 'A', 'I')\n",
    "print(\"Resultado final del recorrido:\", resultado)\n"
   ]
  },
  {
   "cell_type": "markdown",
   "id": "ef3e8036",
   "metadata": {},
   "source": [
    "<h2>Costo Uniforme</h2>"
   ]
  },
  {
   "cell_type": "code",
   "execution_count": 5,
   "id": "c16bc184",
   "metadata": {},
   "outputs": [
    {
     "data": {
      "text/plain": [
       "{'A': [('B', 1), ('C', 4)],\n",
       " 'B': [('D', 2), ('E', 5)],\n",
       " 'C': [('F', 5)],\n",
       " 'D': [],\n",
       " 'E': [('F', 2), ('A', 5)],\n",
       " 'F': []}"
      ]
     },
     "execution_count": 5,
     "metadata": {},
     "output_type": "execute_result"
    }
   ],
   "source": [
    "grafo_peso={\n",
    "    'A': [('B',1),('C',4)],\n",
    "    'B': [('D',2),('E',5)],\n",
    "    'C' : [('F',5)],\n",
    "    'D' : [],\n",
    "    'E' : [('F',2),('A',5)],\n",
    "    'F': []\n",
    "}\n",
    "\n",
    "grafo_peso"
   ]
  },
  {
   "cell_type": "code",
   "execution_count": null,
   "id": "cea0d199",
   "metadata": {},
   "outputs": [],
   "source": [
    "import heapq #importar la libreria de colas con prioridad\n",
    "def busqueda_costo_uniforme(grafo_peso,inicio,objetivo):\n",
    "    visitados = set()\n",
    "    cola_prioridad = [(0,inicio)]\n",
    "    venir = {inicio:None}\n",
    "    while cola_prioridad:\n",
    "        costo, nodo =heapq.heappop(cola_prioridad)\n",
    "        if nodo == objetivo:\n",
    "            camino=[]\n",
    "            while nodo:\n",
    "                camino.append(nodo)\n",
    "                nodo = venir[nodo]\n",
    "            return list(reversed(camino)),costo\n",
    "        if nodo in visitados:\n",
    "            continue\n",
    "        visitados.add(nodo)\n",
    "        \n",
    "        for vecino, costo_prioridad in grafo_peso.get(nodo,[]):\n",
    "            if vecino not in visitados:\n",
    "                heapq.heappush(cola_prioridad,(costo_prioridad+costo,vecino))\n",
    "                venir[vecino]=nodo\n",
    "    return None            \n",
    "    "
   ]
  },
  {
   "cell_type": "code",
   "execution_count": 10,
   "id": "4e180fde",
   "metadata": {},
   "outputs": [
    {
     "data": {
      "text/plain": [
       "(['A', 'B', 'E', 'F'], 8)"
      ]
     },
     "execution_count": 10,
     "metadata": {},
     "output_type": "execute_result"
    }
   ],
   "source": [
    "busqueda_costo_uniforme(grafo_peso,'A','F')"
   ]
  },
  {
   "cell_type": "markdown",
   "id": "2c730840",
   "metadata": {},
   "source": [
    "<h2>COSTO UNIFORME PASO A PASO</h2>"
   ]
  },
  {
   "cell_type": "code",
   "execution_count": 6,
   "id": "fd0990f7",
   "metadata": {},
   "outputs": [],
   "source": [
    "import heapq  # importar la librería de colas con prioridad\n",
    "\n",
    "def busqueda_costo_uniforme(grafo_peso, inicio, objetivo):\n",
    "    visitados = set()\n",
    "    cola_prioridad = [(0, inicio)]   # (costo acumulado, nodo)\n",
    "    venir = {inicio: None}\n",
    "\n",
    "    print(\"=== Ejecución paso a paso de la Búsqueda de Costo Uniforme ===\\n\")\n",
    "    print(f\"Nodo inicial: {inicio}, Nodo objetivo: {objetivo}\\n\")\n",
    "\n",
    "    while cola_prioridad:\n",
    "        print(\"Cola actual:\", cola_prioridad)\n",
    "\n",
    "        # Se extrae el nodo con el menor costo acumulado\n",
    "        costo, nodo = heapq.heappop(cola_prioridad)\n",
    "        print(f\"-> Sacando nodo: {nodo} con costo acumulado: {costo}\")\n",
    "\n",
    "        # Si ya fue visitado, se ignora\n",
    "        if nodo in visitados:\n",
    "            print(f\"   Nodo {nodo} ya fue visitado. Continuando...\\n\")\n",
    "            continue\n",
    "\n",
    "        # Marcar como visitado\n",
    "        visitados.add(nodo)\n",
    "        print(f\"   Visitando nodo: {nodo}\")\n",
    "        print(f\"   Nodos visitados hasta ahora: {visitados}\")\n",
    "\n",
    "        # Verificar si se alcanzó la meta\n",
    "        if nodo == objetivo:\n",
    "            print(f\"\\nNodo objetivo '{objetivo}' encontrado. Reconstruyendo camino...\\n\")\n",
    "\n",
    "            camino = []\n",
    "            while nodo:\n",
    "                camino.append(nodo)\n",
    "                nodo = venir[nodo]\n",
    "\n",
    "            camino_final = list(reversed(camino))\n",
    "            print(f\"Camino óptimo encontrado: {camino_final}\")\n",
    "            print(f\"Costo total del recorrido: {costo}\\n\")\n",
    "            print(\"=== Fin de la búsqueda ===\")\n",
    "            return camino_final, costo\n",
    "\n",
    "        # Expandir los vecinos del nodo actual\n",
    "        print(f\"   Hijos de {nodo}: {grafo_peso.get(nodo, [])}\")\n",
    "        for vecino, costo_prioridad in grafo_peso.get(nodo, []):\n",
    "            if vecino not in visitados:\n",
    "                costo_total = costo + costo_prioridad\n",
    "                heapq.heappush(cola_prioridad, (costo_total, vecino))\n",
    "                venir[vecino] = nodo\n",
    "                print(f\"      -> Agregando vecino: {vecino} con costo total: {costo_total}\")\n",
    "\n",
    "        print(f\"Cola después de agregar vecinos: {cola_prioridad}\\n\")\n",
    "\n",
    "    print(\"No se encontró un camino hacia el nodo objetivo.\\n\")\n",
    "    print(\"=== Fin de la búsqueda ===\")\n",
    "    return None\n"
   ]
  },
  {
   "cell_type": "code",
   "execution_count": 7,
   "id": "59555d06",
   "metadata": {},
   "outputs": [
    {
     "name": "stdout",
     "output_type": "stream",
     "text": [
      "=== Ejecución paso a paso de la Búsqueda de Costo Uniforme ===\n",
      "\n",
      "Nodo inicial: A, Nodo objetivo: F\n",
      "\n",
      "Cola actual: [(0, 'A')]\n",
      "-> Sacando nodo: A con costo acumulado: 0\n",
      "   Visitando nodo: A\n",
      "   Nodos visitados hasta ahora: {'A'}\n",
      "   Hijos de A: [('B', 1), ('C', 4)]\n",
      "      -> Agregando vecino: B con costo total: 1\n",
      "      -> Agregando vecino: C con costo total: 4\n",
      "Cola después de agregar vecinos: [(1, 'B'), (4, 'C')]\n",
      "\n",
      "Cola actual: [(1, 'B'), (4, 'C')]\n",
      "-> Sacando nodo: B con costo acumulado: 1\n",
      "   Visitando nodo: B\n",
      "   Nodos visitados hasta ahora: {'B', 'A'}\n",
      "   Hijos de B: [('D', 2), ('E', 5)]\n",
      "      -> Agregando vecino: D con costo total: 3\n",
      "      -> Agregando vecino: E con costo total: 6\n",
      "Cola después de agregar vecinos: [(3, 'D'), (4, 'C'), (6, 'E')]\n",
      "\n",
      "Cola actual: [(3, 'D'), (4, 'C'), (6, 'E')]\n",
      "-> Sacando nodo: D con costo acumulado: 3\n",
      "   Visitando nodo: D\n",
      "   Nodos visitados hasta ahora: {'D', 'B', 'A'}\n",
      "   Hijos de D: []\n",
      "Cola después de agregar vecinos: [(4, 'C'), (6, 'E')]\n",
      "\n",
      "Cola actual: [(4, 'C'), (6, 'E')]\n",
      "-> Sacando nodo: C con costo acumulado: 4\n",
      "   Visitando nodo: C\n",
      "   Nodos visitados hasta ahora: {'D', 'B', 'C', 'A'}\n",
      "   Hijos de C: [('F', 5)]\n",
      "      -> Agregando vecino: F con costo total: 9\n",
      "Cola después de agregar vecinos: [(6, 'E'), (9, 'F')]\n",
      "\n",
      "Cola actual: [(6, 'E'), (9, 'F')]\n",
      "-> Sacando nodo: E con costo acumulado: 6\n",
      "   Visitando nodo: E\n",
      "   Nodos visitados hasta ahora: {'E', 'A', 'D', 'B', 'C'}\n",
      "   Hijos de E: [('F', 2), ('A', 5)]\n",
      "      -> Agregando vecino: F con costo total: 8\n",
      "Cola después de agregar vecinos: [(8, 'F'), (9, 'F')]\n",
      "\n",
      "Cola actual: [(8, 'F'), (9, 'F')]\n",
      "-> Sacando nodo: F con costo acumulado: 8\n",
      "   Visitando nodo: F\n",
      "   Nodos visitados hasta ahora: {'E', 'A', 'D', 'F', 'B', 'C'}\n",
      "\n",
      "Nodo objetivo 'F' encontrado. Reconstruyendo camino...\n",
      "\n",
      "Camino óptimo encontrado: ['A', 'B', 'E', 'F']\n",
      "Costo total del recorrido: 8\n",
      "\n",
      "=== Fin de la búsqueda ===\n"
     ]
    },
    {
     "data": {
      "text/plain": [
       "(['A', 'B', 'E', 'F'], 8)"
      ]
     },
     "execution_count": 7,
     "metadata": {},
     "output_type": "execute_result"
    }
   ],
   "source": [
    "busqueda_costo_uniforme(grafo_peso, 'A','F')"
   ]
  },
  {
   "cell_type": "markdown",
   "id": "fa4cd082",
   "metadata": {},
   "source": [
    "<h2>BUSQUEDA EN PROFUNDIDAD LIMITADA</h2>"
   ]
  },
  {
   "cell_type": "code",
   "execution_count": 13,
   "id": "543e69a5",
   "metadata": {},
   "outputs": [],
   "source": [
    "\n",
    "arbol= {\n",
    "    'A': ['B','C'],\n",
    "    'B' : ['D' , 'E'],\n",
    "    'C' : ['F' , 'G'],\n",
    "    'D' : ['H' , 'I'],\n",
    "    'E': ['J','K'],\n",
    "    'F': ['L','M'],\n",
    "    'G': ['N','O'],\n",
    "    'H': ['Q','R'],\n",
    "    'I': ['T','U']\n",
    "    \n",
    "}"
   ]
  },
  {
   "cell_type": "code",
   "execution_count": 28,
   "id": "008aa64b",
   "metadata": {},
   "outputs": [],
   "source": [
    "def busqueda_profundidad_limitada(arbol,inicio, objetivo,limite, visitados=None):\n",
    "    if visitados is None:\n",
    "        visitados = set()\n",
    "    visitados.add(inicio)\n",
    "    if inicio == objetivo:\n",
    "        return [inicio]\n",
    "    if limite <= 0 :\n",
    "        return None\n",
    "    for vecino in arbol.get(inicio,[]):\n",
    "        if vecino not in visitados:\n",
    "            camino = busqueda_profundidad_limitada(arbol,vecino, objetivo,limite-1,visitados)\n",
    "            if camino: \n",
    "                return [inicio]+camino\n",
    "    return None        "
   ]
  },
  {
   "cell_type": "code",
   "execution_count": 29,
   "id": "5f482f3f",
   "metadata": {},
   "outputs": [
    {
     "data": {
      "text/plain": [
       "['A', 'B', 'D', 'I']"
      ]
     },
     "execution_count": 29,
     "metadata": {},
     "output_type": "execute_result"
    }
   ],
   "source": [
    "busqueda_profundidad_limitada(arbol,'A', 'I',3, visitados=None)"
   ]
  },
  {
   "cell_type": "markdown",
   "id": "28c20670",
   "metadata": {},
   "source": [
    "<h2>Busqueda en profundidad limitada PASO A PASO</h2>"
   ]
  },
  {
   "cell_type": "code",
   "execution_count": 10,
   "id": "53fa65a8",
   "metadata": {},
   "outputs": [],
   "source": [
    "def busqueda_profundidad_limitada(arbol, inicio, objetivo, limite, visitados=None, nivel=0):\n",
    "    # Inicializar el conjunto de visitados si no se pasa como parámetro\n",
    "    if visitados is None:\n",
    "        visitados = set()\n",
    "\n",
    "    # Imprimir el nivel y nodo actual\n",
    "    print(\"   \" * nivel + f\"Nivel {nivel} -> Visitando nodo: {inicio}, Límite restante: {limite}\")\n",
    "\n",
    "    # Marcar nodo como visitado\n",
    "    visitados.add(inicio)\n",
    "\n",
    "    # Si se encuentra el objetivo\n",
    "    if inicio == objetivo:\n",
    "        print(\"   \" * nivel + f\"Nodo objetivo '{objetivo}' encontrado. Retornando camino...\\n\")\n",
    "        return [inicio]\n",
    "\n",
    "    # Si se alcanzó el límite de profundidad\n",
    "    if limite <= 0:\n",
    "        print(\"   \" * nivel + f\"Límite alcanzado en nodo: {inicio}. Retornando...\\n\")\n",
    "        return None\n",
    "\n",
    "    # Explorar vecinos\n",
    "    print(\"   \" * nivel + f\"Hijos de {inicio}: {arbol.get(inicio, [])}\")\n",
    "    for vecino in arbol.get(inicio, []):\n",
    "        if vecino not in visitados:\n",
    "            print(\"   \" * nivel + f\"Explorando vecino: {vecino}\")\n",
    "            camino = busqueda_profundidad_limitada(arbol, vecino, objetivo, limite - 1, visitados, nivel + 1)\n",
    "            if camino:\n",
    "                return [inicio] + camino\n",
    "\n",
    "    # Si no se encuentra el objetivo en este nivel\n",
    "    print(\"   \" * nivel + f\"Regresando desde nodo: {inicio} (no se encontró el objetivo en este camino)\\n\")\n",
    "    return None"
   ]
  },
  {
   "cell_type": "code",
   "execution_count": 11,
   "id": "bef98eeb",
   "metadata": {},
   "outputs": [
    {
     "name": "stdout",
     "output_type": "stream",
     "text": [
      "Nivel 0 -> Visitando nodo: A, Límite restante: 3\n",
      "Hijos de A: ['B', 'C']\n",
      "Explorando vecino: B\n",
      "   Nivel 1 -> Visitando nodo: B, Límite restante: 2\n",
      "   Hijos de B: ['D', 'E']\n",
      "   Explorando vecino: D\n",
      "      Nivel 2 -> Visitando nodo: D, Límite restante: 1\n",
      "      Hijos de D: ['H', 'I']\n",
      "      Explorando vecino: H\n",
      "         Nivel 3 -> Visitando nodo: H, Límite restante: 0\n",
      "         Límite alcanzado en nodo: H. Retornando...\n",
      "\n",
      "      Explorando vecino: I\n",
      "         Nivel 3 -> Visitando nodo: I, Límite restante: 0\n",
      "         Nodo objetivo 'I' encontrado. Retornando camino...\n",
      "\n"
     ]
    },
    {
     "data": {
      "text/plain": [
       "['A', 'B', 'D', 'I']"
      ]
     },
     "execution_count": 11,
     "metadata": {},
     "output_type": "execute_result"
    }
   ],
   "source": [
    "busqueda_profundidad_limitada(arbol, 'A', 'I', limite=3)"
   ]
  },
  {
   "cell_type": "markdown",
   "id": "03adb9da",
   "metadata": {},
   "source": [
    "<h2>BUSQUEDA BIDIRECCIONAL</H2>"
   ]
  },
  {
   "cell_type": "code",
   "execution_count": null,
   "id": "3e25c36b",
   "metadata": {},
   "outputs": [
    {
     "data": {
      "text/plain": [
       "{'A': ['B', 'C'],\n",
       " 'B': ['A', 'D', 'E'],\n",
       " 'C': ['A', 'F'],\n",
       " 'D': ['B'],\n",
       " 'E': ['B', 'F'],\n",
       " 'F': ['C', 'E']}"
      ]
     },
     "execution_count": 15,
     "metadata": {},
     "output_type": "execute_result"
    }
   ],
   "source": [
    "grafo = {\n",
    "    'A': ['B', 'C'],\n",
    "    'B': ['A', 'D', 'E'],\n",
    "    'C': ['A', 'F'],\n",
    "    'D': ['B'],\n",
    "    'E': ['B', 'F'],\n",
    "    'F': ['C', 'I'],\n",
    "    'G': ['D', 'J'],\n",
    "    'H': ['E'],\n",
    "    'I': ['F', 'J'],\n",
    "    'J': ['G', 'I']\n",
    "}\n",
    "\n",
    "grafo"
   ]
  },
  {
   "cell_type": "code",
   "execution_count": 16,
   "id": "b71ccd8f",
   "metadata": {},
   "outputs": [],
   "source": [
    "def busqueda_bidireccional(grafo, inicio, objetivo):\n",
    "    if inicio == objetivo:\n",
    "        return [inicio]\n",
    "\n",
    "    from collections import deque\n",
    "    visitados_ida = {inicio: None}\n",
    "    visitados_vuelta = {objetivo: None}\n",
    "    cola_ida = deque([inicio])\n",
    "    cola_vuelta = deque([objetivo])\n",
    "\n",
    "    while cola_ida and cola_vuelta:\n",
    "        nodo_ida = cola_ida.popleft()\n",
    "        for vecino in grafo.get(nodo_ida, []):\n",
    "            if vecino not in visitados_ida:\n",
    "                visitados_ida[vecino] = nodo_ida\n",
    "                cola_ida.append(vecino)\n",
    "            if vecino in visitados_vuelta:\n",
    "                return reconstruir_camino_bidireccional(visitados_ida, visitados_vuelta, vecino)\n",
    "\n",
    "        nodo_vuelta = cola_vuelta.popleft()\n",
    "        for vecino in grafo.get(nodo_vuelta, []):\n",
    "            if vecino not in visitados_vuelta:\n",
    "                visitados_vuelta[vecino] = nodo_vuelta\n",
    "                cola_vuelta.append(vecino)\n",
    "            if vecino in visitados_ida:\n",
    "                return reconstruir_camino_bidireccional(visitados_ida, visitados_vuelta, vecino)\n",
    "    return None\n",
    "\n",
    "def reconstruir_camino_bidireccional(ida, vuelta, punto_encuentro):\n",
    "    camino_ida = []\n",
    "    nodo = punto_encuentro\n",
    "    while nodo:\n",
    "        camino_ida.append(nodo)\n",
    "        nodo = ida[nodo]\n",
    "    camino_ida.reverse()\n",
    "\n",
    "    camino_vuelta = []\n",
    "    nodo = vuelta[punto_encuentro]\n",
    "    while nodo:\n",
    "        camino_vuelta.append(nodo)\n",
    "        nodo = vuelta[nodo]\n",
    "    return camino_ida + camino_vuelta\n"
   ]
  },
  {
   "cell_type": "code",
   "execution_count": null,
   "id": "60b06f85",
   "metadata": {},
   "outputs": [],
   "source": [
    "busqueda_bidireccional(grafo, 'A', 'G')"
   ]
  },
  {
   "cell_type": "markdown",
   "id": "00d4d027",
   "metadata": {},
   "source": [
    "<h2>PASO A PASO BUSQUEDA BIDIRECCIONAL</H2>"
   ]
  },
  {
   "cell_type": "code",
   "execution_count": 21,
   "id": "800e4bc6",
   "metadata": {},
   "outputs": [],
   "source": [
    "from collections import deque\n",
    "\n",
    "def busqueda_bidireccional(grafo, inicio, objetivo):\n",
    "    if inicio == objetivo:\n",
    "        print(\"Inicio y objetivo son el mismo nodo.\")\n",
    "        return [inicio]\n",
    "\n",
    "    visitados_ida = {inicio: None}\n",
    "    visitados_vuelta = {objetivo: None}\n",
    "    cola_ida = deque([inicio])\n",
    "    cola_vuelta = deque([objetivo])\n",
    "\n",
    "    print(\"=== INICIO DE LA BÚSQUEDA BIDIRECCIONAL ===\")\n",
    "    print(f\"Inicio: {inicio} | Objetivo: {objetivo}\\n\")\n",
    "\n",
    "    while cola_ida and cola_vuelta:\n",
    "        # ----- Lado IDA -----\n",
    "        print(f\"[IDA] Cola actual: {list(cola_ida)}\")\n",
    "        nodo_ida = cola_ida.popleft()\n",
    "        print(f\"[IDA] -> Expandiendo: {nodo_ida}\")\n",
    "        for vecino in grafo.get(nodo_ida, []):\n",
    "            if vecino not in visitados_ida:\n",
    "                visitados_ida[vecino] = nodo_ida\n",
    "                cola_ida.append(vecino)\n",
    "                print(f\"      [IDA] + Encolado vecino: {vecino}\")\n",
    "            if vecino in visitados_vuelta:\n",
    "                print(f\"\\n ¡Encuentro en '{vecino}'! (frentes IDA y VUELTA)\\n\")\n",
    "                camino = reconstruir_camino_bidireccional(visitados_ida, visitados_vuelta, vecino, verbose=True)\n",
    "                print(f\"Camino final: {camino}\")\n",
    "                print(\"=== FIN DE LA BÚSQUEDA ===\")\n",
    "                return camino\n",
    "        print(f\"[IDA] Cola después de expandir: {list(cola_ida)}\\n\")\n",
    "\n",
    "        # ----- Lado VUELTA -----\n",
    "        print(f\"[VUELTA] Cola actual: {list(cola_vuelta)}\")\n",
    "        nodo_vuelta = cola_vuelta.popleft()\n",
    "        print(f\"[VUELTA] -> Expandiendo: {nodo_vuelta}\")\n",
    "        for vecino in grafo.get(nodo_vuelta, []):\n",
    "            if vecino not in visitados_vuelta:\n",
    "                visitados_vuelta[vecino] = nodo_vuelta\n",
    "                cola_vuelta.append(vecino)\n",
    "                print(f\"         [VUELTA] + Encolado vecino: {vecino}\")\n",
    "            if vecino in visitados_ida:\n",
    "                print(f\"\\n ¡Encuentro en '{vecino}'! (frentes IDA y VUELTA)\\n\")\n",
    "                camino = reconstruir_camino_bidireccional(visitados_ida, visitados_vuelta, vecino, verbose=True)\n",
    "                print(f\"Camino final: {camino}\")\n",
    "                print(\"=== FIN DE LA BÚSQUEDA ===\")\n",
    "                return camino\n",
    "        print(f\"[VUELTA] Cola después de expandir: {list(cola_vuelta)}\\n\")\n",
    "\n",
    "    print(\"No se encontró un camino entre inicio y objetivo.\")\n",
    "    print(\"=== FIN DE LA BÚSQUEDA ===\")\n",
    "    return None\n",
    "\n",
    "\n",
    "def reconstruir_camino_bidireccional(ida, vuelta, punto_encuentro, verbose=False):\n",
    "    if verbose:\n",
    "        print(\"Reconstruyendo camino...\")\n",
    "        print(f\"Punto de encuentro: {punto_encuentro}\\n\")\n",
    "\n",
    "    # tramo inicio -> encuentro (usando padres en 'ida')\n",
    "    camino_ida = []\n",
    "    nodo = punto_encuentro\n",
    "    while nodo is not None:\n",
    "        camino_ida.append(nodo)\n",
    "        nodo = ida[nodo]\n",
    "    camino_ida.reverse()\n",
    "\n",
    "    if verbose:\n",
    "        print(f\"Tramo desde el inicio hasta encuentro: {camino_ida}\")\n",
    "\n",
    "    # tramo encuentro -> objetivo (usando padres en 'vuelta')\n",
    "    camino_vuelta = []\n",
    "    nodo = vuelta[punto_encuentro]\n",
    "    while nodo is not None:\n",
    "        camino_vuelta.append(nodo)\n",
    "        nodo = vuelta[nodo]\n",
    "\n",
    "    if verbose:\n",
    "        print(f\"Tramo desde el encuentro hasta objetivo: {camino_vuelta}\\n\")\n",
    "\n",
    "    return camino_ida + camino_vuelta\n"
   ]
  },
  {
   "cell_type": "code",
   "execution_count": 22,
   "id": "275f1791",
   "metadata": {},
   "outputs": [
    {
     "name": "stdout",
     "output_type": "stream",
     "text": [
      "=== INICIO DE LA BÚSQUEDA BIDIRECCIONAL ===\n",
      "Inicio: A | Objetivo: G\n",
      "\n",
      "[IDA] Cola actual: ['A']\n",
      "[IDA] -> Expandiendo: A\n",
      "      [IDA] + Encolado vecino: B\n",
      "      [IDA] + Encolado vecino: C\n",
      "[IDA] Cola después de expandir: ['B', 'C']\n",
      "\n",
      "[VUELTA] Cola actual: ['G']\n",
      "[VUELTA] -> Expandiendo: G\n",
      "         [VUELTA] + Encolado vecino: D\n",
      "         [VUELTA] + Encolado vecino: J\n",
      "[VUELTA] Cola después de expandir: ['D', 'J']\n",
      "\n",
      "[IDA] Cola actual: ['B', 'C']\n",
      "[IDA] -> Expandiendo: B\n",
      "      [IDA] + Encolado vecino: D\n",
      "\n",
      " ¡Encuentro en 'D'! (frentes IDA y VUELTA)\n",
      "\n",
      "Reconstruyendo camino...\n",
      "Punto de encuentro: D\n",
      "\n",
      "Tramo desde el inicio hasta encuentro: ['A', 'B', 'D']\n",
      "Tramo desde el encuentro hasta objetivo: ['G']\n",
      "\n",
      "Camino final: ['A', 'B', 'D', 'G']\n",
      "=== FIN DE LA BÚSQUEDA ===\n",
      "Bidireccional: ['A', 'B', 'D', 'G']\n"
     ]
    }
   ],
   "source": [
    "camino_bidireccional = busqueda_bidireccional(grafo, 'A', 'G')\n",
    "print(\"Bidireccional:\", camino_bidireccional)\n"
   ]
  }
 ],
 "metadata": {
  "kernelspec": {
   "display_name": "Python 3",
   "language": "python",
   "name": "python3"
  },
  "language_info": {
   "codemirror_mode": {
    "name": "ipython",
    "version": 3
   },
   "file_extension": ".py",
   "mimetype": "text/x-python",
   "name": "python",
   "nbconvert_exporter": "python",
   "pygments_lexer": "ipython3",
   "version": "3.10.11"
  }
 },
 "nbformat": 4,
 "nbformat_minor": 5
}
