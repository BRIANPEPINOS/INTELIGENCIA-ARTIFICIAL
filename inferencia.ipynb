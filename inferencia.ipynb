{
 "cells": [
  {
   "cell_type": "code",
   "execution_count": null,
   "id": "665728c7",
   "metadata": {},
   "outputs": [
    {
     "data": {
      "text/plain": [
       "{'EsHumano': ['Socrates', 'Tesla'],\n",
       " 'EsEstidiante': ['Alice', 'Bob'],\n",
       " 'EsGato': ['Whiskers', 'Garfield'],\n",
       " 'profesor': ['DrPerez']}"
      ]
     },
     "execution_count": 44,
     "metadata": {},
     "output_type": "execute_result"
    }
   ],
   "source": [
    "hechos = {\n",
    "    'EsHumano' : ['Socrates', 'Tesla'],\n",
    "    'EsEstidiante' : ['Alice', 'Bob'],\n",
    "    'EsGato' : ['Whiskers', 'Garfield'],\n",
    "    \n",
    "}\n",
    "\n",
    "hechos"
   ]
  },
  {
   "cell_type": "markdown",
   "id": "91a86f56",
   "metadata": {},
   "source": [
    "<h2>REGLAS</h2>"
   ]
  },
  {
   "cell_type": "code",
   "execution_count": null,
   "id": "83af3648",
   "metadata": {},
   "outputs": [
    {
     "data": {
      "text/plain": [
       "[('EsHumano', 'EsMortal'),\n",
       " ('EsGato', 'EsMamifero'),\n",
       " ('EsEstidiante', 'Aprueba'),\n",
       " ('profesor', 'enseña')]"
      ]
     },
     "execution_count": 45,
     "metadata": {},
     "output_type": "execute_result"
    }
   ],
   "source": [
    "reglas = [\n",
    "    ('EsHumano','EsMortal'),\n",
    "    ('EsGato','EsMamifero'),\n",
    "    ('EsEstidiante','Aprueba'),\n",
    "   \n",
    "]\n",
    "\n",
    "\n",
    "reglas"
   ]
  },
  {
   "cell_type": "markdown",
   "id": "53cacf5e",
   "metadata": {},
   "source": [
    "<h2> Funcion para inferir</h2>"
   ]
  },
  {
   "cell_type": "code",
   "execution_count": 46,
   "id": "801b03bb",
   "metadata": {},
   "outputs": [],
   "source": [
    "def inferir(hechos, reglas):\n",
    "    nuevas_conclusiones =[]\n",
    "    for antecedente, consecuente in reglas:\n",
    "        if antecedente in hechos:\n",
    "            for elem in hechos[antecedente]:\n",
    "                if consecuente not in hechos:\n",
    "                    hechos[consecuente] = []\n",
    "                if elem not in hechos[consecuente]:\n",
    "                    hechos[consecuente].append(elem)\n",
    "                    nuevas_conclusiones.append(f'{elem} es {consecuente}')\n",
    "                \n",
    "                    \n",
    "    return nuevas_conclusiones"
   ]
  },
  {
   "cell_type": "code",
   "execution_count": 47,
   "id": "61bb29d7",
   "metadata": {},
   "outputs": [
    {
     "data": {
      "text/plain": [
       "['Socrates es EsMortal',\n",
       " 'Tesla es EsMortal',\n",
       " 'Whiskers es EsMamifero',\n",
       " 'Garfield es EsMamifero',\n",
       " 'Alice es Aprueba',\n",
       " 'Bob es Aprueba',\n",
       " 'DrPerez es enseña']"
      ]
     },
     "execution_count": 47,
     "metadata": {},
     "output_type": "execute_result"
    }
   ],
   "source": [
    "inferir(hechos, reglas)"
   ]
  },
  {
   "cell_type": "markdown",
   "id": "0c2a02a5",
   "metadata": {},
   "source": [
    "<h2> Consultsa</h2>"
   ]
  },
  {
   "cell_type": "code",
   "execution_count": 48,
   "id": "460a4dcd",
   "metadata": {},
   "outputs": [],
   "source": [
    "def consultar(hecho, elemento):\n",
    "    return elemento in hechos.get(hecho, [])"
   ]
  },
  {
   "cell_type": "code",
   "execution_count": 49,
   "id": "50a1d221",
   "metadata": {},
   "outputs": [
    {
     "name": "stdout",
     "output_type": "stream",
     "text": [
      "True\n"
     ]
    }
   ],
   "source": [
    "print(consultar('EsHumano', 'Socrates'))  # True"
   ]
  }
 ],
 "metadata": {
  "kernelspec": {
   "display_name": "Python 3",
   "language": "python",
   "name": "python3"
  },
  "language_info": {
   "codemirror_mode": {
    "name": "ipython",
    "version": 3
   },
   "file_extension": ".py",
   "mimetype": "text/x-python",
   "name": "python",
   "nbconvert_exporter": "python",
   "pygments_lexer": "ipython3",
   "version": "3.10.11"
  }
 },
 "nbformat": 4,
 "nbformat_minor": 5
}
